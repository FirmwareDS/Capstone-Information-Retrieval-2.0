{
 "cells": [
  {
   "cell_type": "code",
   "execution_count": 52,
   "metadata": {},
   "outputs": [],
   "source": [
    "import os\n",
    "import json\n",
    "import yaml\n",
    "import pandas as pd"
   ]
  },
  {
   "cell_type": "code",
   "execution_count": 94,
   "metadata": {},
   "outputs": [],
   "source": [
    "model_config = yaml.safe_load(open('efficient2/VI/BT/large/checkpoint/config.yaml'))"
   ]
  },
  {
   "cell_type": "code",
   "execution_count": 95,
   "metadata": {},
   "outputs": [
    {
     "data": {
      "text/plain": [
       "dict_keys(['config', 'data', 'init_dict'])"
      ]
     },
     "execution_count": 95,
     "metadata": {},
     "output_type": "execute_result"
    }
   ],
   "source": [
    "model_config.keys()"
   ]
  },
  {
   "cell_type": "code",
   "execution_count": 96,
   "metadata": {},
   "outputs": [
    {
     "data": {
      "text/plain": [
       "{'config': {'lr': 2e-05,\n",
       "  'seed': 123,\n",
       "  'gradient_accumulation_steps': 1,\n",
       "  'weight_decay': 0.01,\n",
       "  'validation_metrics': ['MRR@10', 'recall@100', 'recall@200', 'recall@500'],\n",
       "  'pretrained_no_yamlconfig': False,\n",
       "  'nb_iterations': 80000,\n",
       "  'train_batch_size': 24,\n",
       "  'eval_batch_size': 24,\n",
       "  'index_retrieve_batch_size': 24,\n",
       "  'record_frequency': 20000,\n",
       "  'train_monitoring_freq': 100,\n",
       "  'warmup_steps': 5000,\n",
       "  'max_length': 256,\n",
       "  'fp16': True,\n",
       "  'matching_type': 'splade',\n",
       "  'monitoring_ckpt': 'MRR@10',\n",
       "  'overwrite_final': True,\n",
       "  'tokenizer_type': 'models/mlm_flops/DistilBERT',\n",
       "  'top_k': 1000,\n",
       "  'eval_metric': [['mrr_10', 'recall'],\n",
       "   ['ndcg_cut'],\n",
       "   ['mrr_10', 'recall'],\n",
       "   ['ndcg_cut'],\n",
       "   ['mrr_10', 'recall']],\n",
       "  'threshold': 0,\n",
       "  'loss': 'KlDiv',\n",
       "  'regularizer': {'FLOPS': {'lambda_d': 0.5,\n",
       "    'lambda_q': 0.4,\n",
       "    'T': 50000,\n",
       "    'targeted_rep': 'rep',\n",
       "    'reg': 'FLOPS'}},\n",
       "  'checkpoint_dir': 'models/efficient2/VI/BT/large/checkpoint',\n",
       "  'index_dir': 'models/efficient2/VI/BT/large/index',\n",
       "  'out_dir': 'models/efficient2/VI/BT/large/out'},\n",
       " 'data': {'type': 'hard_negatives',\n",
       "  'TRAIN': {'DATASET_PATH': 'data/msmarco/hard_negatives_scores/cross-encoder-ms-marco-MiniLM-L-6-v2-scores.pkl.gz',\n",
       "   'D_COLLECTION_PATH': 'data/msmarco/full_collection',\n",
       "   'Q_COLLECTION_PATH': 'data/msmarco/train_queries/queries',\n",
       "   'QREL_PATH': 'data/msmarco/train_queries/qrels.json'},\n",
       "  'VALIDATION_FULL_RANKING': {'D_COLLECTION_PATH': 'data/msmarco/val_retrieval/collection',\n",
       "   'Q_COLLECTION_PATH': 'data/msmarco/val_retrieval/queries',\n",
       "   'QREL_PATH': 'data/msmarco/val_retrieval/qrel.json',\n",
       "   'TOP_K': 500},\n",
       "  'COLLECTION_PATH': 'data/msmarco/full_collection',\n",
       "  'Q_COLLECTION_PATH': ['data/msmarco/dev_queries',\n",
       "   'data/msmarco/TREC_DL_2019/queries_2019',\n",
       "   'data/msmarco/TREC_DL_2020/queries_2020'],\n",
       "  'EVAL_QREL_PATH': ['data/msmarco/dev_qrel.json',\n",
       "   'data/msmarco/TREC_DL_2019/qrel.json',\n",
       "   'data/msmarco/TREC_DL_2019/qrel_binary.json',\n",
       "   'data/msmarco/TREC_DL_2020/qrel.json',\n",
       "   'data/msmarco/TREC_DL_2020/qrel_binary.json'],\n",
       "  'flops_queries': 'data/msmarco/all_dev_queries/'},\n",
       " 'init_dict': {'model_type_or_dir': 'models/mlm_flops/DistilBERT',\n",
       "  'model_type_or_dir_q': 'models/mlm_flops/BERTiny',\n",
       "  'freeze_d_model': 0,\n",
       "  'agg': 'max',\n",
       "  'fp16': True}}"
      ]
     },
     "execution_count": 96,
     "metadata": {},
     "output_type": "execute_result"
    }
   ],
   "source": [
    "model_config"
   ]
  },
  {
   "cell_type": "code",
   "execution_count": 64,
   "metadata": {},
   "outputs": [
    {
     "name": "stdout",
     "output_type": "stream",
     "text": [
      "./cocondenser_ensemble_distil_monogpu_q1_d04/out\n",
      "cocondenser_ensemble_distil_monogpu_q1_d04\n",
      "./cocondenser_ensemble_distil_monogpu_q1_d04/out/flops.json\n",
      "./cocondenser_ensemble_distil_monogpu_q1_d04/out/perf_all_datasets.json\n",
      "./cocondenser_ensemble_distil_monogpu_q1_d04/out\n",
      "cocondenser_ensemble_distil_monogpu_q1_d04\n",
      "./cocondenser_ensemble_distil_monogpu_q1_d04/out/perf_all_datasets.json\n",
      "./cocondenser_ensemble_distil_monogpu/out\n",
      "cocondenser_ensemble_distil_monogpu\n",
      "./cocondenser_ensemble_distil_monogpu/out/flops.json\n",
      "./cocondenser_ensemble_distil_monogpu/out/perf_all_datasets.json\n",
      "./cocondenser_ensemble_distil_monogpu/out\n",
      "cocondenser_ensemble_distil_monogpu\n",
      "./cocondenser_ensemble_distil_monogpu/out/perf_all_datasets.json\n",
      "./cocondenser_L1/out\n",
      "cocondenser_L1\n",
      "./cocondenser_L1/out/flops.json\n",
      "./cocondenser_L1/out/perf_all_datasets.json\n",
      "./cocondenser_L1/out\n",
      "cocondenser_L1\n",
      "./cocondenser_L1/out/perf_all_datasets.json\n",
      "./cocondenser_ensemble_distil_monogpu_10_12/out\n",
      "cocondenser_ensemble_distil_monogpu_10_12\n",
      "./cocondenser_ensemble_distil_monogpu_10_12/out/flops.json\n",
      "./cocondenser_ensemble_distil_monogpu_10_12/out/perf_all_datasets.json\n",
      "./cocondenser_ensemble_distil_monogpu_10_12/out\n",
      "cocondenser_ensemble_distil_monogpu_10_12\n",
      "./cocondenser_ensemble_distil_monogpu_10_12/out/perf_all_datasets.json\n",
      "./cocondenser_1_0.9/out\n",
      "cocondenser_1_0.9\n",
      "./cocondenser_1_0.9/out/flops.json\n",
      "./cocondenser_1_0.9/out/perf_all_datasets.json\n",
      "./cocondenser_1_0.9/out\n",
      "cocondenser_1_0.9\n",
      "./cocondenser_1_0.9/out/perf_all_datasets.json\n",
      "./efficient3/V/small/out\n",
      "efficient3\n",
      "./efficient3/V/small/out/flops.json\n",
      "./efficient3/V/small/out/perf_all_datasets.json\n",
      "./efficient3/V/small/out\n",
      "efficient3\n",
      "./efficient3/V/small/out/perf_all_datasets.json\n",
      "./efficient2/VI/BT/large/out\n",
      "efficient2\n",
      "./efficient2/VI/BT/large/out/flops.json\n",
      "./efficient2/VI/BT/large/out/perf_all_datasets.json\n",
      "./efficient2/VI/BT/large/out\n",
      "efficient2\n",
      "./efficient2/VI/BT/large/out/perf_all_datasets.json\n",
      "./efficient/VI/BT/large/out\n",
      "efficient\n",
      "./efficient/VI/BT/large/out/flops.json\n",
      "./efficient/VI/BT/large/out/perf_all_datasets.json\n",
      "./efficient/VI/BT/large/out\n",
      "efficient\n",
      "./efficient/VI/BT/large/out/perf_all_datasets.json\n"
     ]
    }
   ],
   "source": [
    "models = dict()\n",
    "\n",
    "for path, subdirs, files in os.walk('./'):\n",
    "    for name in files:\n",
    "        if(name==\"flops.json\"):\n",
    "            model_name = path.split(\"/\")[1]\n",
    "            print(path)\n",
    "            print(model_name)\n",
    "            if(model_name in models):\n",
    "                model = models[model_name]\n",
    "                model[\"flops\"] = json.load(open(os.path.join(path, name)))[\"flops\"]\n",
    "                models[model_name] = model\n",
    "            else:\n",
    "                model = dict()\n",
    "                model[\"flops\"] = json.load(open(os.path.join(path, name)))[\"flops\"]\n",
    "                models[model_name] = model\n",
    "            print(os.path.join(path, name))\n",
    "        if(name==\"perf_all_datasets.json\"):\n",
    "            print(os.path.join(path, name))\n",
    "            model_name = path.split(\"/\")[1]\n",
    "            print(path)\n",
    "            print(model_name)\n",
    "            if(model_name in models):\n",
    "                model = models[model_name]\n",
    "                model[\"mrr\"] = json.load(open(os.path.join(path, name)))[\"MSMARCO\"][\"mrr_10\"]\n",
    "                models[model_name] = model\n",
    "            else:\n",
    "                model = dict()\n",
    "                model[\"mrr\"] = json.load(open(os.path.join(path, name)))[\"MSMARCO\"][\"mrr_10\"]\n",
    "                models[model_name] = model\n",
    "            print(os.path.join(path, name))"
   ]
  },
  {
   "cell_type": "code",
   "execution_count": 73,
   "metadata": {},
   "outputs": [
    {
     "data": {
      "text/html": [
       "<div>\n",
       "<style scoped>\n",
       "    .dataframe tbody tr th:only-of-type {\n",
       "        vertical-align: middle;\n",
       "    }\n",
       "\n",
       "    .dataframe tbody tr th {\n",
       "        vertical-align: top;\n",
       "    }\n",
       "\n",
       "    .dataframe thead th {\n",
       "        text-align: right;\n",
       "    }\n",
       "</style>\n",
       "<table border=\"1\" class=\"dataframe\">\n",
       "  <thead>\n",
       "    <tr style=\"text-align: right;\">\n",
       "      <th></th>\n",
       "      <th>flops</th>\n",
       "      <th>mrr</th>\n",
       "    </tr>\n",
       "  </thead>\n",
       "  <tbody>\n",
       "    <tr>\n",
       "      <th>cocondenser_ensemble_distil_monogpu_q1_d04</th>\n",
       "      <td>5.889728</td>\n",
       "      <td>0.357563</td>\n",
       "    </tr>\n",
       "    <tr>\n",
       "      <th>cocondenser_ensemble_distil_monogpu</th>\n",
       "      <td>1.336463</td>\n",
       "      <td>0.371022</td>\n",
       "    </tr>\n",
       "    <tr>\n",
       "      <th>cocondenser_L1</th>\n",
       "      <td>35.270141</td>\n",
       "      <td>0.368968</td>\n",
       "    </tr>\n",
       "    <tr>\n",
       "      <th>cocondenser_ensemble_distil_monogpu_10_12</th>\n",
       "      <td>1.025390</td>\n",
       "      <td>0.361480</td>\n",
       "    </tr>\n",
       "    <tr>\n",
       "      <th>cocondenser_1_0.9</th>\n",
       "      <td>0.749666</td>\n",
       "      <td>0.360141</td>\n",
       "    </tr>\n",
       "    <tr>\n",
       "      <th>efficient3</th>\n",
       "      <td>0.148724</td>\n",
       "      <td>0.368197</td>\n",
       "    </tr>\n",
       "    <tr>\n",
       "      <th>efficient2</th>\n",
       "      <td>0.009213</td>\n",
       "      <td>0.215788</td>\n",
       "    </tr>\n",
       "    <tr>\n",
       "      <th>efficient</th>\n",
       "      <td>3.310741</td>\n",
       "      <td>0.366786</td>\n",
       "    </tr>\n",
       "  </tbody>\n",
       "</table>\n",
       "</div>"
      ],
      "text/plain": [
       "                                                flops       mrr\n",
       "cocondenser_ensemble_distil_monogpu_q1_d04   5.889728  0.357563\n",
       "cocondenser_ensemble_distil_monogpu          1.336463  0.371022\n",
       "cocondenser_L1                              35.270141  0.368968\n",
       "cocondenser_ensemble_distil_monogpu_10_12    1.025390  0.361480\n",
       "cocondenser_1_0.9                            0.749666  0.360141\n",
       "efficient3                                   0.148724  0.368197\n",
       "efficient2                                   0.009213  0.215788\n",
       "efficient                                    3.310741  0.366786"
      ]
     },
     "execution_count": 73,
     "metadata": {},
     "output_type": "execute_result"
    }
   ],
   "source": [
    "models_ = pd.DataFrame.from_dict(models,orient = \"index\")\n",
    "models_"
   ]
  },
  {
   "cell_type": "code",
   "execution_count": 77,
   "metadata": {},
   "outputs": [
    {
     "data": {
      "text/html": [
       "<div>\n",
       "<style scoped>\n",
       "    .dataframe tbody tr th:only-of-type {\n",
       "        vertical-align: middle;\n",
       "    }\n",
       "\n",
       "    .dataframe tbody tr th {\n",
       "        vertical-align: top;\n",
       "    }\n",
       "\n",
       "    .dataframe thead th {\n",
       "        text-align: right;\n",
       "    }\n",
       "</style>\n",
       "<table border=\"1\" class=\"dataframe\">\n",
       "  <thead>\n",
       "    <tr style=\"text-align: right;\">\n",
       "      <th></th>\n",
       "      <th>index</th>\n",
       "      <th>flops</th>\n",
       "      <th>mrr</th>\n",
       "    </tr>\n",
       "  </thead>\n",
       "  <tbody>\n",
       "    <tr>\n",
       "      <th>0</th>\n",
       "      <td>cocondenser_ensemble_distil_monogpu_q1_d04</td>\n",
       "      <td>5.889728</td>\n",
       "      <td>0.357563</td>\n",
       "    </tr>\n",
       "    <tr>\n",
       "      <th>1</th>\n",
       "      <td>cocondenser_ensemble_distil_monogpu</td>\n",
       "      <td>1.336463</td>\n",
       "      <td>0.371022</td>\n",
       "    </tr>\n",
       "    <tr>\n",
       "      <th>2</th>\n",
       "      <td>cocondenser_L1</td>\n",
       "      <td>35.270141</td>\n",
       "      <td>0.368968</td>\n",
       "    </tr>\n",
       "    <tr>\n",
       "      <th>3</th>\n",
       "      <td>cocondenser_ensemble_distil_monogpu_10_12</td>\n",
       "      <td>1.025390</td>\n",
       "      <td>0.361480</td>\n",
       "    </tr>\n",
       "    <tr>\n",
       "      <th>4</th>\n",
       "      <td>cocondenser_1_0.9</td>\n",
       "      <td>0.749666</td>\n",
       "      <td>0.360141</td>\n",
       "    </tr>\n",
       "    <tr>\n",
       "      <th>5</th>\n",
       "      <td>efficient3</td>\n",
       "      <td>0.148724</td>\n",
       "      <td>0.368197</td>\n",
       "    </tr>\n",
       "    <tr>\n",
       "      <th>6</th>\n",
       "      <td>efficient2</td>\n",
       "      <td>0.009213</td>\n",
       "      <td>0.215788</td>\n",
       "    </tr>\n",
       "    <tr>\n",
       "      <th>7</th>\n",
       "      <td>efficient</td>\n",
       "      <td>3.310741</td>\n",
       "      <td>0.366786</td>\n",
       "    </tr>\n",
       "  </tbody>\n",
       "</table>\n",
       "</div>"
      ],
      "text/plain": [
       "                                        index      flops       mrr\n",
       "0  cocondenser_ensemble_distil_monogpu_q1_d04   5.889728  0.357563\n",
       "1         cocondenser_ensemble_distil_monogpu   1.336463  0.371022\n",
       "2                              cocondenser_L1  35.270141  0.368968\n",
       "3   cocondenser_ensemble_distil_monogpu_10_12   1.025390  0.361480\n",
       "4                           cocondenser_1_0.9   0.749666  0.360141\n",
       "5                                  efficient3   0.148724  0.368197\n",
       "6                                  efficient2   0.009213  0.215788\n",
       "7                                   efficient   3.310741  0.366786"
      ]
     },
     "execution_count": 77,
     "metadata": {},
     "output_type": "execute_result"
    }
   ],
   "source": [
    "model_index = models_.reset_index()\n",
    "model_index"
   ]
  },
  {
   "cell_type": "code",
   "execution_count": 79,
   "metadata": {},
   "outputs": [
    {
     "data": {
      "text/plain": [
       "<matplotlib.axes._subplots.AxesSubplot at 0x7f8cb0598550>"
      ]
     },
     "execution_count": 79,
     "metadata": {},
     "output_type": "execute_result"
    },
    {
     "data": {
      "image/png": "[encoded data removed]",
      "text/plain": [
       "<Figure size 432x288 with 1 Axes>"
      ]
     },
     "metadata": {
      "needs_background": "light"
     },
     "output_type": "display_data"
    }
   ],
   "source": [
    "model_index.plot.scatter(x='flops',y='mrr',label=r\"index\")\n"
   ]
  },
  {
   "cell_type": "code",
   "execution_count": null,
   "metadata": {},
   "outputs": [],
   "source": []
  }
 ],
 "metadata": {
  "kernelspec": {
   "display_name": "Python 3",
   "language": "python",
   "name": "python3"
  },
  "language_info": {
   "codemirror_mode": {
    "name": "ipython",
    "version": 3
   },
   "file_extension": ".py",
   "mimetype": "text/x-python",
   "name": "python",
   "nbconvert_exporter": "python",
   "pygments_lexer": "ipython3",
   "version": "3.8.3"
  },
  "toc": {
   "base_numbering": 1,
   "nav_menu": {},
   "number_sections": true,
   "sideBar": true,
   "skip_h1_title": false,
   "title_cell": "Table of Contents",
   "title_sidebar": "Contents",
   "toc_cell": false,
   "toc_position": {},
   "toc_section_display": true,
   "toc_window_display": false
  }
 },
 "nbformat": 4,
 "nbformat_minor": 4
}
