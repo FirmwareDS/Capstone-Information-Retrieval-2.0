{
 "cells": [
  {
   "cell_type": "code",
   "execution_count": 1,
   "id": "a0de9b1c",
   "metadata": {
    "execution": {
     "iopub.execute_input": "2023-04-01T22:47:44.013443Z",
     "iopub.status.busy": "2023-04-01T22:47:44.013031Z",
     "iopub.status.idle": "2023-04-01T22:47:45.136890Z",
     "shell.execute_reply": "2023-04-01T22:47:45.136315Z"
    },
    "papermill": {
     "duration": 1.129283,
     "end_time": "2023-04-01T22:47:45.138605",
     "exception": false,
     "start_time": "2023-04-01T22:47:44.009322",
     "status": "completed"
    },
    "tags": []
   },
   "outputs": [],
   "source": [
    "import os\n",
    "import datetime\n",
    "import gc\n",
    "import torch.quantization\n",
    "from ptflops import get_model_complexity_info\n",
    "\n",
    "\n",
    "def timestamp():\n",
    "    print(datetime.datetime.now().strftime(\"%b %d %Y, %H:%M:%S\"))"
   ]
  },
  {
   "cell_type": "markdown",
   "id": "4250278f",
   "metadata": {
    "papermill": {
     "duration": 0.002152,
     "end_time": "2023-04-01T22:47:45.143323",
     "exception": false,
     "start_time": "2023-04-01T22:47:45.141171",
     "status": "completed"
    },
    "tags": []
   },
   "source": [
    "# Quantization of ColBERT Model"
   ]
  },
  {
   "cell_type": "code",
   "execution_count": 2,
   "id": "0172ac82",
   "metadata": {
    "execution": {
     "iopub.execute_input": "2023-04-01T22:47:45.148499Z",
     "iopub.status.busy": "2023-04-01T22:47:45.148190Z",
     "iopub.status.idle": "2023-04-01T22:47:46.020961Z",
     "shell.execute_reply": "2023-04-01T22:47:46.020229Z"
    },
    "papermill": {
     "duration": 0.877277,
     "end_time": "2023-04-01T22:47:46.022655",
     "exception": false,
     "start_time": "2023-04-01T22:47:45.145378",
     "status": "completed"
    },
    "tags": []
   },
   "outputs": [],
   "source": [
    "from transformers import pipeline, AutoConfig\n",
    "from colbert.modeling.colbert import colbert_score\n",
    "from colbert.modeling.checkpoint import Checkpoint\n",
    "from colbert.infra import Run, RunConfig, ColBERTConfig\n",
    "from colbert import Trainer, Indexer, Searcher\n",
    "from transformers import AutoTokenizer\n",
    "from colbert.data import Queries\n",
    "import torch\n",
    "from tqdm.auto import tqdm\n",
    "import re\n"
   ]
  },
  {
   "cell_type": "code",
   "execution_count": 3,
   "id": "5bdc040b",
   "metadata": {
    "execution": {
     "iopub.execute_input": "2023-04-01T22:47:46.028455Z",
     "iopub.status.busy": "2023-04-01T22:47:46.028151Z",
     "iopub.status.idle": "2023-04-01T22:47:46.032422Z",
     "shell.execute_reply": "2023-04-01T22:47:46.031937Z"
    },
    "papermill": {
     "duration": 0.008621,
     "end_time": "2023-04-01T22:47:46.033690",
     "exception": false,
     "start_time": "2023-04-01T22:47:46.025069",
     "status": "completed"
    },
    "tags": []
   },
   "outputs": [],
   "source": [
    "def filter_layers(name, prune_type, ignore_bias=True):\n",
    "    if name.startswith('model.bert.embeddings') \\\n",
    "        or 'LayerNorm' in name: \n",
    "            return True\n",
    "    if ignore_bias and name.endswith('bias'):\n",
    "        return True\n",
    "    if prune_type == \"dense\":\n",
    "        if \"attention\" in name:\n",
    "            return True\n",
    "    elif \"attention\" in prune_type:\n",
    "        if \"attention\" not in name:\n",
    "            return True\n",
    "        if \"no_dense\" in prune_type and \"dense\" in name:\n",
    "            return True\n",
    "    return False"
   ]
  },
  {
   "cell_type": "code",
   "execution_count": 4,
   "id": "bb748bee",
   "metadata": {},
   "outputs": [],
   "source": [
    "def print_size_of_model(model):\n",
    "    torch.save(model.state_dict(), \"temp.p\")\n",
    "    print('Size (MB):', os.path.getsize(\"temp.p\")/1e6)\n",
    "    os.remove('temp.p')"
   ]
  },
  {
   "cell_type": "code",
   "execution_count": 5,
   "id": "fda095ed",
   "metadata": {
    "execution": {
     "iopub.execute_input": "2023-04-01T22:47:46.039112Z",
     "iopub.status.busy": "2023-04-01T22:47:46.038812Z",
     "iopub.status.idle": "2023-04-01T22:47:46.054218Z",
     "shell.execute_reply": "2023-04-01T22:47:46.053730Z"
    },
    "papermill": {
     "duration": 0.019627,
     "end_time": "2023-04-01T22:47:46.055435",
     "exception": false,
     "start_time": "2023-04-01T22:47:46.035808",
     "status": "completed"
    },
    "tags": []
   },
   "outputs": [],
   "source": [
    "def quantization_data_new(config, quant_type, quant_Int):\n",
    "    use_iter = \"v2.0\"\n",
    "    \n",
    "    use_full_data = False\n",
    "    nbits = 2\n",
    "    k = 1000\n",
    "    maxsteps = 10000\n",
    "\n",
    "    base_path = fr\"experiments/\"\n",
    "    experiment = fr\"\"\n",
    "\n",
    "\n",
    "\n",
    "\n",
    "    #use_iter_str=f\"{use_iter:,}\".replace(',','.')\n",
    "    index_name = f\"\"\n",
    "\n",
    "\n",
    "    checkpoint = fr\"experiments/model_dump/colbert{use_iter}\" \n",
    "    retrieval_name = f\"{index_name}.ranking={k}.tsv\"\n",
    "\n",
    "\n",
    "\n",
    "\n",
    "    if not os.path.exists(checkpoint):\n",
    "        #anil checkpoint = fr\"{base_path}/checkpoints/colbert\"\n",
    "        print(f\"Couldn't find checkpoint. Using default checkpoint: {checkpoint}\")\n",
    "        checkpoint = fr\"experiments/model_dump/colbertv2.0\"\n",
    "\n",
    "    config = ColBERTConfig(\n",
    "        bsize = 64,\n",
    "        root=base_path,\n",
    "        experiment=experiment,\n",
    "        triples=r\"../../kngo/data/triples.train.small.id.json\",\n",
    "        collection= r\"../../kngo/data/collection.tsv\",\n",
    "\n",
    "        checkpoint=checkpoint,\n",
    "        nbits=nbits,\n",
    "        overwrite='resume',\n",
    "        index_name=index_name,\n",
    "        index_path=fr\"./indexes\",\n",
    "        rank = 0,\n",
    "        nranks = 1,\n",
    "        amp = True,\n",
    "        gpus = 1,\n",
    "    )\n",
    "\n",
    "    print(\"index_name=\",index_name)\n",
    "        \n",
    "    for q_type in quant_type:\n",
    "        print(f\"pruning model on prune type {q_type} to: {quant_Int}\")\n",
    "        with Run().context(RunConfig(nranks=config.nranks, experiment=config.experiment)):\n",
    "            model = Checkpoint(config.checkpoint, colbert_config=config)\n",
    "        model_state_dict = model.state_dict()\n",
    "        quantized_model = torch.quantization.quantize_dynamic(model,q_type , dtype=quant_Int)\n",
    "        quantized_state_dict = quantized_model.state_dict()       \n",
    "        print_size_of_model(model)\n",
    "        print_size_of_model(quantized_model)\n",
    "        \n",
    "        if do_retrieval:\n",
    "            timestamp()\n",
    "            gc.collect()\n",
    "            config.set(\"queries\", r\"../../kngo/data/queries.dev.tsv\")\n",
    "            \n",
    "  \n",
    "            with Run().context(RunConfig(nranks=config.nranks, experiment=config.experiment, name='retrieval', overwrite = True)):\n",
    "                \n",
    "                config.checkpoint = model\n",
    "                model.to('cpu')\n",
    "                searcher = Searcher(index=config.index_name, config=config, checkpoint=model)\n",
    "                queries = Queries(config.queries)\n",
    "                count = 0\n",
    "                while(count !=2):\n",
    "                    print(f\"Base model #\", count)\n",
    "                    ranking = searcher.search_all(queries, k=k)\n",
    "                    count = count + 1\n",
    "            timestamp()\n",
    "\n",
    "            del searcher, queries, ranking\n",
    "            gc.collect()\n",
    "            \n",
    "            with Run().context(RunConfig(nranks=config.nranks, experiment=config.experiment, name='retrieval', overwrite = True)):\n",
    "                \n",
    "                config.checkpoint = quantized_model\n",
    "                quantized_model.to('cpu')\n",
    "                searcher = Searcher(index=config.index_name, config=config, checkpoint=quantized_model)\n",
    "                queries = Queries(config.queries)\n",
    "                count = 0\n",
    "                while(count !=2):\n",
    "                    print(f\"Quantized model #\", count)\n",
    "                    ranking = searcher.search_all(queries, k=k)\n",
    "                    count = count + 1\n",
    "                #ranking.save(f\"msmarco.{use_iter}.nbits={config.nbits}.prune={prune_amount}.prune_type={prune_type}.ranking={k}.tsv\")\n",
    "                #ranking.save(retrieval_name)\n",
    "            timestamp()\n",
    "\n",
    "            del searcher, queries, ranking\n",
    "            gc.collect()\n",
    "             \n",
    "\n",
    "        if do_eval:\n",
    "            #!python -m utility.evaluate.msmarco_passages \\\n",
    "            #     --ranking \"experiments/msmarco_{maxsteps_str}/retrieval/msmarco.{use_iter}.nbits={config.nbits}.prune={prune_amount}.prune_type={prune_type}.ranking={k}.tsv\" \\\n",
    "            #     --qrels \"../data/qrels.dev.tsv\" > \"experiments/msmarco_{maxsteps_str}/retrieval/msmarco.{use_iter}.nbits={config.nbits}.prune={prune_amount}.prune_type={prune_type}.ranking={k}.tsv.log\"\n",
    "            !python -m utility.evaluate.msmarco_passages \\\n",
    "                --ranking \"experiments/{experiment}/none/retrieval/{retrieval_name}\" \\\n",
    "                --qrels \"../../kngo/data/qrels.dev.tsv\" #> \"experiments/{experiment}/retrieval/{retrieval_name}.log\"\n",
    "        del model,quantized_model\n",
    "        gc.collect()"
   ]
  },
  {
   "cell_type": "code",
   "execution_count": 6,
   "id": "56868123",
   "metadata": {
    "execution": {
     "iopub.execute_input": "2023-04-01T22:47:46.060671Z",
     "iopub.status.busy": "2023-04-01T22:47:46.060344Z",
     "iopub.status.idle": "2023-04-01T22:47:46.064450Z",
     "shell.execute_reply": "2023-04-01T22:47:46.063968Z"
    },
    "papermill": {
     "duration": 0.008156,
     "end_time": "2023-04-01T22:47:46.065733",
     "exception": false,
     "start_time": "2023-04-01T22:47:46.057577",
     "status": "completed"
    },
    "tags": []
   },
   "outputs": [],
   "source": [
    "def quantization_data(config, quant_type, quant_Int):\n",
    "\n",
    "    for q_type in quant_type:\n",
    "        print(f\"pruning model on prune type {q_type} to: {quant_Int}\")\n",
    "        with Run().context(RunConfig(nranks=config.nranks, experiment=config.experiment)):\n",
    "            model = Checkpoint(config.checkpoint, colbert_config=config)\n",
    "\n",
    "        device = torch.device('cuda' if torch.cuda.is_available() else 'cpu')\n",
    "        model.to(device)\n",
    "        quantized_model = torch.quantization.quantize_dynamic(model,q_type , dtype=quant_Int)\n",
    "        quantized_model.save(f\"{checkpoint}.quant={quant_Int}.quant_type={q_type}\")\n",
    "        del model,quantized_model\n",
    "        gc.collect()"
   ]
  },
  {
   "cell_type": "code",
   "execution_count": 7,
   "id": "73390957",
   "metadata": {
    "execution": {
     "iopub.execute_input": "2023-04-01T22:47:46.071026Z",
     "iopub.status.busy": "2023-04-01T22:47:46.070721Z",
     "iopub.status.idle": "2023-04-01T22:47:46.073361Z",
     "shell.execute_reply": "2023-04-01T22:47:46.072875Z"
    },
    "papermill": {
     "duration": 0.00665,
     "end_time": "2023-04-01T22:47:46.074594",
     "exception": false,
     "start_time": "2023-04-01T22:47:46.067944",
     "status": "completed"
    },
    "tags": []
   },
   "outputs": [],
   "source": [
    "\n",
    "quantization_Int = [torch.qint8]\n",
    "quantization_Type = [{torch.nn.Linear}]\n",
    "\n"
   ]
  },
  {
   "cell_type": "code",
   "execution_count": 8,
   "id": "41943553",
   "metadata": {
    "execution": {
     "iopub.execute_input": "2023-04-01T22:47:46.079925Z",
     "iopub.status.busy": "2023-04-01T22:47:46.079625Z",
     "iopub.status.idle": "2023-04-02T00:10:24.080386Z",
     "shell.execute_reply": "2023-04-02T00:10:24.079725Z"
    },
    "papermill": {
     "duration": 4959.330719,
     "end_time": "2023-04-02T00:10:25.407498",
     "exception": false,
     "start_time": "2023-04-01T22:47:46.076779",
     "status": "completed"
    },
    "scrolled": false,
    "tags": []
   },
   "outputs": [
    {
     "name": "stdout",
     "output_type": "stream",
     "text": [
      "index_name= \n",
      "pruning model on prune type {<class 'torch.nn.modules.linear.Linear'>} to: torch.qint8\n",
      "Size (MB): 438.393806\n",
      "Size (MB): 181.584042\n",
      "Apr 07 2023, 23:16:20\n",
      "[Apr 07, 23:16:20] #> Loading collection...\n",
      "0M 1M 2M 3M 4M 5M 6M 7M 8M \n",
      "[Apr 07, 23:16:43] #> Loading codec...\n",
      "[Apr 07, 23:16:43] Loading decompress_residuals_cpp extension (set COLBERT_LOAD_TORCH_EXTENSION_VERBOSE=True for more info)...\n",
      "[Apr 07, 23:17:36] Loading packbits_cpp extension (set COLBERT_LOAD_TORCH_EXTENSION_VERBOSE=True for more info)...\n",
      "[Apr 07, 23:18:30] #> Loading IVF...\n",
      "[Apr 07, 23:18:32] #> Loading doclens...\n"
     ]
    },
    {
     "name": "stderr",
     "output_type": "stream",
     "text": [
      "100%|█████████████████████████████████████████████████████████████████████████████████████████████████████████| 354/354 [00:00<00:00, 1198.63it/s]\n"
     ]
    },
    {
     "name": "stdout",
     "output_type": "stream",
     "text": [
      "[Apr 07, 23:18:33] #> Loading codes and residuals...\n"
     ]
    },
    {
     "name": "stderr",
     "output_type": "stream",
     "text": [
      "100%|███████████████████████████████████████████████████████████████████████████████████████████████████████████| 354/354 [01:31<00:00,  3.88it/s]\n"
     ]
    },
    {
     "name": "stdout",
     "output_type": "stream",
     "text": [
      "[Apr 07, 23:20:04] #> Loading the queries from ../kngo/data/queries.dev.tsv ...\n"
     ]
    },
    {
     "ename": "FileNotFoundError",
     "evalue": "[Errno 2] No such file or directory: '../kngo/data/queries.dev.tsv'",
     "output_type": "error",
     "traceback": [
      "\u001b[0;31m---------------------------------------------------------------------------\u001b[0m",
      "\u001b[0;31mFileNotFoundError\u001b[0m                         Traceback (most recent call last)",
      "Cell \u001b[0;32mIn[8], line 28\u001b[0m\n\u001b[1;32m      9\u001b[0m config \u001b[38;5;241m=\u001b[39m ColBERTConfig(\n\u001b[1;32m     10\u001b[0m         bsize \u001b[38;5;241m=\u001b[39m \u001b[38;5;241m64\u001b[39m,\n\u001b[1;32m     11\u001b[0m         root\u001b[38;5;241m=\u001b[39mbase_path,\n\u001b[0;32m   (...)\u001b[0m\n\u001b[1;32m     24\u001b[0m         gpus \u001b[38;5;241m=\u001b[39m \u001b[38;5;241m1\u001b[39m,\n\u001b[1;32m     25\u001b[0m     )\n\u001b[1;32m     27\u001b[0m \u001b[38;5;28;01mfor\u001b[39;00m q_Int \u001b[38;5;129;01min\u001b[39;00m quantization_Int:\n\u001b[0;32m---> 28\u001b[0m     \u001b[43mquantization_data_new\u001b[49m\u001b[43m(\u001b[49m\u001b[43mconfig\u001b[49m\u001b[43m,\u001b[49m\u001b[43m \u001b[49m\u001b[43mquantization_Type\u001b[49m\u001b[43m,\u001b[49m\u001b[43m \u001b[49m\u001b[43mq_Int\u001b[49m\u001b[43m \u001b[49m\u001b[43m)\u001b[49m\n\u001b[1;32m     29\u001b[0m \u001b[38;5;28mprint\u001b[39m(\u001b[38;5;124m\"\u001b[39m\u001b[38;5;124mquantization complete\u001b[39m\u001b[38;5;124m\"\u001b[39m)\n",
      "Cell \u001b[0;32mIn[5], line 71\u001b[0m, in \u001b[0;36mquantization_data_new\u001b[0;34m(config, quant_type, quant_Int)\u001b[0m\n\u001b[1;32m     69\u001b[0m model\u001b[38;5;241m.\u001b[39mto(\u001b[38;5;124m'\u001b[39m\u001b[38;5;124mcpu\u001b[39m\u001b[38;5;124m'\u001b[39m)\n\u001b[1;32m     70\u001b[0m searcher \u001b[38;5;241m=\u001b[39m Searcher(index\u001b[38;5;241m=\u001b[39mconfig\u001b[38;5;241m.\u001b[39mindex_name, config\u001b[38;5;241m=\u001b[39mconfig, checkpoint\u001b[38;5;241m=\u001b[39mmodel)\n\u001b[0;32m---> 71\u001b[0m queries \u001b[38;5;241m=\u001b[39m \u001b[43mQueries\u001b[49m\u001b[43m(\u001b[49m\u001b[43mconfig\u001b[49m\u001b[38;5;241;43m.\u001b[39;49m\u001b[43mqueries\u001b[49m\u001b[43m)\u001b[49m\n\u001b[1;32m     72\u001b[0m count \u001b[38;5;241m=\u001b[39m \u001b[38;5;241m0\u001b[39m\n\u001b[1;32m     73\u001b[0m \u001b[38;5;28;01mwhile\u001b[39;00m(count \u001b[38;5;241m!=\u001b[39m\u001b[38;5;241m10\u001b[39m):\n",
      "File \u001b[0;32m~/capstone/repo/ColBERT/colbert/data/queries.py:17\u001b[0m, in \u001b[0;36mQueries.__init__\u001b[0;34m(self, path, data)\u001b[0m\n\u001b[1;32m     15\u001b[0m \u001b[38;5;28;01mif\u001b[39;00m data:\n\u001b[1;32m     16\u001b[0m     \u001b[38;5;28;01massert\u001b[39;00m \u001b[38;5;28misinstance\u001b[39m(data, \u001b[38;5;28mdict\u001b[39m), \u001b[38;5;28mtype\u001b[39m(data)\n\u001b[0;32m---> 17\u001b[0m \u001b[38;5;28mself\u001b[39m\u001b[38;5;241m.\u001b[39m_load_data(data) \u001b[38;5;129;01mor\u001b[39;00m \u001b[38;5;28;43mself\u001b[39;49m\u001b[38;5;241;43m.\u001b[39;49m\u001b[43m_load_file\u001b[49m\u001b[43m(\u001b[49m\u001b[43mpath\u001b[49m\u001b[43m)\u001b[49m\n",
      "File \u001b[0;32m~/capstone/repo/ColBERT/colbert/data/queries.py:52\u001b[0m, in \u001b[0;36mQueries._load_file\u001b[0;34m(self, path)\u001b[0m\n\u001b[1;32m     50\u001b[0m \u001b[38;5;28;01mdef\u001b[39;00m \u001b[38;5;21m_load_file\u001b[39m(\u001b[38;5;28mself\u001b[39m, path):\n\u001b[1;32m     51\u001b[0m     \u001b[38;5;28;01mif\u001b[39;00m \u001b[38;5;129;01mnot\u001b[39;00m path\u001b[38;5;241m.\u001b[39mendswith(\u001b[38;5;124m'\u001b[39m\u001b[38;5;124m.json\u001b[39m\u001b[38;5;124m'\u001b[39m):\n\u001b[0;32m---> 52\u001b[0m         \u001b[38;5;28mself\u001b[39m\u001b[38;5;241m.\u001b[39mdata \u001b[38;5;241m=\u001b[39m \u001b[43mload_queries\u001b[49m\u001b[43m(\u001b[49m\u001b[43mpath\u001b[49m\u001b[43m)\u001b[49m\n\u001b[1;32m     53\u001b[0m         \u001b[38;5;28;01mreturn\u001b[39;00m \u001b[38;5;28;01mTrue\u001b[39;00m\n\u001b[1;32m     55\u001b[0m     \u001b[38;5;66;03m# Load QAs\u001b[39;00m\n",
      "File \u001b[0;32m~/capstone/repo/ColBERT/colbert/evaluation/loaders.py:20\u001b[0m, in \u001b[0;36mload_queries\u001b[0;34m(queries_path)\u001b[0m\n\u001b[1;32m     16\u001b[0m queries \u001b[38;5;241m=\u001b[39m OrderedDict()\n\u001b[1;32m     18\u001b[0m print_message(\u001b[38;5;124m\"\u001b[39m\u001b[38;5;124m#> Loading the queries from\u001b[39m\u001b[38;5;124m\"\u001b[39m, queries_path, \u001b[38;5;124m\"\u001b[39m\u001b[38;5;124m...\u001b[39m\u001b[38;5;124m\"\u001b[39m)\n\u001b[0;32m---> 20\u001b[0m \u001b[38;5;28;01mwith\u001b[39;00m \u001b[38;5;28;43mopen\u001b[39;49m\u001b[43m(\u001b[49m\u001b[43mqueries_path\u001b[49m\u001b[43m)\u001b[49m \u001b[38;5;28;01mas\u001b[39;00m f:\n\u001b[1;32m     21\u001b[0m     \u001b[38;5;28;01mfor\u001b[39;00m line \u001b[38;5;129;01min\u001b[39;00m f:\n\u001b[1;32m     22\u001b[0m         qid, query, \u001b[38;5;241m*\u001b[39m_ \u001b[38;5;241m=\u001b[39m line\u001b[38;5;241m.\u001b[39mstrip()\u001b[38;5;241m.\u001b[39msplit(\u001b[38;5;124m'\u001b[39m\u001b[38;5;130;01m\\t\u001b[39;00m\u001b[38;5;124m'\u001b[39m)\n",
      "\u001b[0;31mFileNotFoundError\u001b[0m: [Errno 2] No such file or directory: '../kngo/data/queries.dev.tsv'"
     ]
    }
   ],
   "source": [
    "\n",
    "#if not os.path.exists(checkpoint):\n",
    "#    checkpoint = fr\"{base_path}/checkpoints/colbert\"\n",
    "base_path = fr\"experiments/\"\n",
    "checkpoint = fr\"experiments/model_dump/colbertv2.0\"\n",
    "\n",
    "do_retrieval = True\n",
    "do_eval = True\n",
    "    \n",
    "config = ColBERTConfig(\n",
    "        bsize = 64,\n",
    "        root=base_path,\n",
    "    \n",
    "        triples=r\"../kngo/data/triples.train.small.id.json\",\n",
    "        collection= r\"../kngo/data/collection.tsv\",\n",
    "        \n",
    "        checkpoint = checkpoint,\n",
    "        overwrite='resume',\n",
    "    \n",
    "        ncells= 10,\n",
    "    \n",
    "        rank = 0,\n",
    "        nranks = 1,\n",
    "        amp = True,\n",
    "        gpus = 1,\n",
    "    )\n",
    "\n",
    "for q_Int in quantization_Int:\n",
    "    quantization_data_new(config, quantization_Type, q_Int )\n",
    "print(\"quantization experiment complete\")\n",
    "\n"
   ]
  },
  {
   "cell_type": "code",
   "execution_count": null,
   "id": "ae36cecb",
   "metadata": {
    "execution": {
     "iopub.execute_input": "2023-04-02T00:10:28.046794Z",
     "iopub.status.busy": "2023-04-02T00:10:28.046437Z",
     "iopub.status.idle": "2023-04-02T00:10:28.184308Z",
     "shell.execute_reply": "2023-04-02T00:10:28.183593Z"
    },
    "papermill": {
     "duration": 1.456666,
     "end_time": "2023-04-02T00:10:28.185451",
     "exception": true,
     "start_time": "2023-04-02T00:10:26.728785",
     "status": "failed"
    },
    "tags": []
   },
   "outputs": [],
   "source": [
    "for p_amount in prune_amount:\n",
    "    gc.collect()\n",
    "    prune_experiment(prune_type, p_amount, maxsteps = 10000,  k = 1000, \\\n",
    "                     do_train = False, do_index = False, do_retrieval = False, do_eval = True, nbits = 2, \\\n",
    "                     use_full_data = False)\n",
    "print(\"!!!!all done!!!!!\")"
   ]
  },
  {
   "cell_type": "code",
   "execution_count": null,
   "id": "b2fba3f5",
   "metadata": {
    "papermill": {
     "duration": null,
     "end_time": null,
     "exception": null,
     "start_time": null,
     "status": "pending"
    },
    "tags": []
   },
   "outputs": [],
   "source": []
  }
 ],
 "metadata": {
  "kernelspec": {
   "display_name": "Python 3 (ipykernel)",
   "language": "python",
   "name": "python3"
  },
  "language_info": {
   "codemirror_mode": {
    "name": "ipython",
    "version": 3
   },
   "file_extension": ".py",
   "mimetype": "text/x-python",
   "name": "python",
   "nbconvert_exporter": "python",
   "pygments_lexer": "ipython3",
   "version": "3.8.16"
  },
  "papermill": {
   "default_parameters": {},
   "duration": 4969.626694,
   "end_time": "2023-04-02T00:10:32.479354",
   "environment_variables": {},
   "exception": true,
   "input_path": "anil_quantization.ipynb",
   "output_path": "anil_quantization_output1.ipynb",
   "parameters": {},
   "start_time": "2023-04-01T22:47:42.852660",
   "version": "2.4.0"
  }
 },
 "nbformat": 4,
 "nbformat_minor": 5
}
